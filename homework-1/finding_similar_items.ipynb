{
  "nbformat": 4,
  "nbformat_minor": 0,
  "metadata": {
    "colab": {
      "name": "finding-similar-items.ipynb",
      "provenance": [],
      "collapsed_sections": [],
      "toc_visible": true
    },
    "kernelspec": {
      "name": "python3",
      "display_name": "Python 3"
    }
  },
  "cells": [
    {
      "cell_type": "markdown",
      "metadata": {
        "id": "eKWwzot1GkNO"
      },
      "source": [
        "# Finding Similar Items\n",
        "The goal of this notebook is to implement the stages of finding textually similar documents based on Jaccard similarity. Specifically, the implemented techniques to tackle the problem in a more optimal way are: shingling, minhashing, and locality-sensitive hashing (LSH).\n",
        "\n",
        "The techniques are applied to documents collected from [ArXiv.org](https://arxiv.org/), with the goal of detecting plagiarism from a random set of real documents. In the case of papers, the similarity does not need to be very high to be considered significant. Some percentage lying around 20% would be unusual enough.\n",
        "\n",
        "## Techniques\n",
        "- **Shingling**: To be able to calculate similarity between sets, we need to first convert documents to set of elements. The most effective way would be to construct the set of short strings that appear in the document. Therefore, documents that share pieces as short as sentences or even phrases will have many common elements despite the order. To do so, we can use the shingling technique to extract the unique k-shingles that compose the document, these are the substrings of length k found within the document. Check *generate_shingles* method.\n",
        "- **MinHashing**: A drawback from the set of shingles is that they can be very large to store, approximately 4 times the space the document takes. A solution is to generate signatures which can be compared between documents to estimate the Jaccard similarity of the underlying sets. Check *min_hashing* method.\n",
        "- **LSH - Local Sensitive Hashing**: Even with minhashing, comparing the similarity between all documents it is very expensive computationally. LSH aims to generate, from the set of signatures, a reduced list of candidate pairs, which would be the ones which similarity must be evaluated. For signature matrices, this means to hash documents to several buckets and consider elements of the same bucket as candidate pairs. Check *lsh* method.\n",
        "\n",
        "## Implementation\n",
        "The code is implemented using Python and PySpark. In addition, Numpy is applied on all methods to try to make them as efficient as possible.\n",
        "\n",
        "## Authors\n",
        "- Serghei Socolovschi [serghei@kth.se](mailto:serghei@kth.se)\n",
        "- Angel Igareta [alih2@kth.se](mailto:alih2@kth.se) "
      ]
    },
    {
      "cell_type": "markdown",
      "metadata": {
        "id": "59XkezzVHzoF"
      },
      "source": [
        "## General"
      ]
    },
    {
      "cell_type": "markdown",
      "metadata": {
        "id": "nxO_Xr10H0qq"
      },
      "source": [
        "### Libraries"
      ]
    },
    {
      "cell_type": "code",
      "metadata": {
        "id": "ASA5MgayqE5s",
        "colab": {
          "base_uri": "https://localhost:8080/"
        },
        "outputId": "c8f89b57-7531-43ae-ac04-2ca3a5fbb1c5"
      },
      "source": [
        "# Run only once\n",
        "!pip install arxiv\n",
        "!pip install pdfminer.six"
      ],
      "execution_count": 1,
      "outputs": [
        {
          "output_type": "stream",
          "text": [
            "Collecting arxiv\n",
            "  Downloading https://files.pythonhosted.org/packages/50/81/9714d5a4efc14edddb308c0b527fe2d9ac35840fcfa83684a52655d35d42/arxiv-0.5.3-py3-none-any.whl\n",
            "Collecting feedparser\n",
            "\u001b[?25l  Downloading https://files.pythonhosted.org/packages/1c/21/faf1bac028662cc8adb2b5ef7a6f3999a765baa2835331df365289b0ca56/feedparser-6.0.2-py3-none-any.whl (80kB)\n",
            "\u001b[K     |████████████████████████████████| 81kB 3.5MB/s \n",
            "\u001b[?25hRequirement already satisfied: requests in /usr/local/lib/python3.6/dist-packages (from arxiv) (2.23.0)\n",
            "Collecting sgmllib3k\n",
            "  Downloading https://files.pythonhosted.org/packages/9e/bd/3704a8c3e0942d711c1299ebf7b9091930adae6675d7c8f476a7ce48653c/sgmllib3k-1.0.0.tar.gz\n",
            "Requirement already satisfied: idna<3,>=2.5 in /usr/local/lib/python3.6/dist-packages (from requests->arxiv) (2.10)\n",
            "Requirement already satisfied: chardet<4,>=3.0.2 in /usr/local/lib/python3.6/dist-packages (from requests->arxiv) (3.0.4)\n",
            "Requirement already satisfied: certifi>=2017.4.17 in /usr/local/lib/python3.6/dist-packages (from requests->arxiv) (2020.12.5)\n",
            "Requirement already satisfied: urllib3!=1.25.0,!=1.25.1,<1.26,>=1.21.1 in /usr/local/lib/python3.6/dist-packages (from requests->arxiv) (1.24.3)\n",
            "Building wheels for collected packages: sgmllib3k\n",
            "  Building wheel for sgmllib3k (setup.py) ... \u001b[?25l\u001b[?25hdone\n",
            "  Created wheel for sgmllib3k: filename=sgmllib3k-1.0.0-cp36-none-any.whl size=6066 sha256=78e83683073cbb93499a5c472862d24d6b32d1382936bb88e2d46eb574230165\n",
            "  Stored in directory: /root/.cache/pip/wheels/f1/80/5a/444ba08a550cdd241bd9baf8bae44be750efe370adb944506a\n",
            "Successfully built sgmllib3k\n",
            "Installing collected packages: sgmllib3k, feedparser, arxiv\n",
            "Successfully installed arxiv-0.5.3 feedparser-6.0.2 sgmllib3k-1.0.0\n",
            "Collecting pdfminer.six\n",
            "\u001b[?25l  Downloading https://files.pythonhosted.org/packages/93/f3/4fec7dabe8802ebec46141345bf714cd1fc7d93cb74ddde917e4b6d97d88/pdfminer.six-20201018-py3-none-any.whl (5.6MB)\n",
            "\u001b[K     |████████████████████████████████| 5.6MB 5.5MB/s \n",
            "\u001b[?25hRequirement already satisfied: chardet; python_version > \"3.0\" in /usr/local/lib/python3.6/dist-packages (from pdfminer.six) (3.0.4)\n",
            "Requirement already satisfied: sortedcontainers in /usr/local/lib/python3.6/dist-packages (from pdfminer.six) (2.3.0)\n",
            "Collecting cryptography\n",
            "\u001b[?25l  Downloading https://files.pythonhosted.org/packages/a6/a1/49543f8ae3165c598e6c1393c54f9af8eaf7111f86e769ab4b897cdcf096/cryptography-3.4.4-cp36-abi3-manylinux2014_x86_64.whl (3.2MB)\n",
            "\u001b[K     |████████████████████████████████| 3.2MB 42.6MB/s \n",
            "\u001b[?25hRequirement already satisfied: cffi>=1.12 in /usr/local/lib/python3.6/dist-packages (from cryptography->pdfminer.six) (1.14.4)\n",
            "Requirement already satisfied: pycparser in /usr/local/lib/python3.6/dist-packages (from cffi>=1.12->cryptography->pdfminer.six) (2.20)\n",
            "Installing collected packages: cryptography, pdfminer.six\n",
            "Successfully installed cryptography-3.4.4 pdfminer.six-20201018\n"
          ],
          "name": "stdout"
        }
      ]
    },
    {
      "cell_type": "code",
      "metadata": {
        "id": "wxGqH9h4H2kA"
      },
      "source": [
        "import arxiv\n",
        "from pdfminer.high_level import extract_text\n",
        "from os import listdir\n",
        "import re # Subsitute in string\n",
        "import collections # Count collisions\n",
        "import random\n",
        "import time\n",
        "import math\n",
        "import numpy as np\n",
        "import sys\n",
        "from itertools import combinations "
      ],
      "execution_count": 2,
      "outputs": []
    },
    {
      "cell_type": "markdown",
      "metadata": {
        "id": "nSz-QR1EnprM"
      },
      "source": [
        "### Common"
      ]
    },
    {
      "cell_type": "markdown",
      "metadata": {
        "id": "WIqX2CKIGv-2"
      },
      "source": [
        "## Methods"
      ]
    },
    {
      "cell_type": "markdown",
      "metadata": {
        "id": "j7pEtVuMGyO6"
      },
      "source": [
        "### Fetch documents\n",
        "Fetch **number_of_documents** documents within the topic **topic** and stores them to the directory **dir**, previously reseting the folder."
      ]
    },
    {
      "cell_type": "code",
      "metadata": {
        "id": "QaPpFz1KJtGb"
      },
      "source": [
        "def fetch_documents(number_of_documents, topic, dirpath):\n",
        "  # Create folder corpus where all documents will be saved \n",
        "  !rm -rf $dirpath\n",
        "  !mkdir $dirpath\n",
        "\n",
        "  # Query papers containing quantum and save to corupus folder\n",
        "  result = arxiv.query(query=topic, max_results=number_of_documents, iterative = True)\n",
        "  \n",
        "  # Download pdfs and store in dirpath, returning the full path\n",
        "  document_paths = [arxiv.arxiv.download(paper, dirpath) for paper in result()]\n",
        "  return document_paths"
      ],
      "execution_count": 3,
      "outputs": []
    },
    {
      "cell_type": "markdown",
      "metadata": {
        "id": "2BTOaFgjqaSZ"
      },
      "source": [
        "### Extract text from documents\n",
        "Convert pdfs to text using the library pdfminer."
      ]
    },
    {
      "cell_type": "code",
      "metadata": {
        "id": "PJyTh0s-qvAG"
      },
      "source": [
        "def extract_texts_from_documents(dirpath):\n",
        "  texts = [extract_text(dirpath + document_path) for document_path in listdir(dirpath)]\n",
        "  return texts"
      ],
      "execution_count": 4,
      "outputs": []
    },
    {
      "cell_type": "code",
      "metadata": {
        "id": "bsYkOE0T-Aeg"
      },
      "source": [
        "def extract_text_from_document(document_path):\n",
        "  return extract_text(document_path)"
      ],
      "execution_count": 5,
      "outputs": []
    },
    {
      "cell_type": "markdown",
      "metadata": {
        "id": "iWaiMwyCwAiH"
      },
      "source": [
        "### Preprocess text\n",
        "It converts text to be in lowercase, with only alphanumeric characters and single spaces. This way we optimize it to have a more accurate similarity."
      ]
    },
    {
      "cell_type": "code",
      "metadata": {
        "id": "81c-GvbNwQJl"
      },
      "source": [
        "def preprocess_text(raw_text):\n",
        "  # Convert the text to lowercase (to have a more accurate similarity)\n",
        "  text = raw_text.lower()\n",
        "  # Replace all none alphanumeric characters with spaces\n",
        "  text = re.sub(r'[^a-zA-Z0-9\\s]', ' ', text)\n",
        "  # Replace multiple spaces with one space\n",
        "  text = re.sub(r'\\s+', ' ', text)\n",
        "  \n",
        "  return text"
      ],
      "execution_count": 6,
      "outputs": []
    },
    {
      "cell_type": "markdown",
      "metadata": {
        "id": "RvsZ9xDvuCFY"
      },
      "source": [
        "### Generate shingles\n",
        "Constructs k–shingles of a given length **k** from a given document, computes a hash value for each unique shingle, and represents the document in the form of an ordered set of its hashed k-shingles."
      ]
    },
    {
      "cell_type": "code",
      "metadata": {
        "id": "9fi6XMl7uRI0"
      },
      "source": [
        "def generate_shingles(text, k):\n",
        "  shingles_raw = [text[i:i + k] for i in range(len(text) - k + 1)]\n",
        "  shingles = np.array(shingles_raw)\n",
        "\n",
        "  # Remove duplicates. Do not use set or we will be loosing the order which is very important.\n",
        "  _, unique_indexes = np.unique(shingles, return_index=True)\n",
        "  return shingles[np.sort(unique_indexes)]"
      ],
      "execution_count": 7,
      "outputs": []
    },
    {
      "cell_type": "code",
      "metadata": {
        "id": "AFIiw_sC2WUo",
        "colab": {
          "base_uri": "https://localhost:8080/"
        },
        "outputId": "ab3a8e2e-4c14-430a-8c97-be9e9343fba1"
      },
      "source": [
        "# Try shingles method. Expected result for string \"abcdabd\" k = 2 => {ab, bc, cd, da, bd}\n",
        "generate_shingles(\"abcdabd\", 2)"
      ],
      "execution_count": 8,
      "outputs": [
        {
          "output_type": "execute_result",
          "data": {
            "text/plain": [
              "array(['ab', 'bc', 'cd', 'da', 'bd'], dtype='<U2')"
            ]
          },
          "metadata": {
            "tags": []
          },
          "execution_count": 8
        }
      ]
    },
    {
      "cell_type": "markdown",
      "metadata": {
        "id": "WPDNSIh-56Ir"
      },
      "source": [
        "Compress shingles of length k to integers, using a max of 4B per shingle (python integer internal size). [More Info](https://cp-algorithms.com/string/string-hashing.html)"
      ]
    },
    {
      "cell_type": "code",
      "metadata": {
        "id": "BDZ0FiCC51tJ"
      },
      "source": [
        "def compress_shingles(shingles):\n",
        "  hashed_shingles_raw = [hash(shingle) for shingle in shingles]\n",
        "  hashed_shingles = np.array(hashed_shingles_raw)\n",
        "\n",
        "  # Calculate number of collissions (before making them unique)\n",
        "  # collisions = [item for item, count in collections.Counter(shingles_hashes).items() if count > 1]\n",
        "  # print(\"Number of collisions in \" + str(len(shingles_hashes)) + \" hashes: \" + str(len(collisions)))\n",
        "\n",
        "  # Make them unique (in case there was any collition)\n",
        "  _, unique_indexes = np.unique(hashed_shingles, return_index=True)\n",
        "  return hashed_shingles[np.sort(unique_indexes.astype(int))]"
      ],
      "execution_count": 9,
      "outputs": []
    },
    {
      "cell_type": "code",
      "metadata": {
        "id": "5fudPbYY7oNW",
        "colab": {
          "base_uri": "https://localhost:8080/"
        },
        "outputId": "e862132e-4107-49e7-d55b-0bbabd8bb80f"
      },
      "source": [
        "# Check python hash does not change in same execution (same seed)\n",
        "print(hash(\"Hello\"))\n",
        "print(hash(\"Helloo\")) "
      ],
      "execution_count": 10,
      "outputs": [
        {
          "output_type": "stream",
          "text": [
            "1872632765187643746\n",
            "1411792157458509121\n"
          ],
          "name": "stdout"
        }
      ]
    },
    {
      "cell_type": "code",
      "metadata": {
        "id": "Zp-9ykBOmsl6",
        "colab": {
          "base_uri": "https://localhost:8080/"
        },
        "outputId": "24c83744-b528-42b9-ba18-7cedd5d694d2"
      },
      "source": [
        "# Try shingles method. Expected result for string \"abcdabd\" k = 2 => {ab, bc, cd, da, bd}\n",
        "compress_shingles(generate_shingles(\"abcdabd\", 2))"
      ],
      "execution_count": 11,
      "outputs": [
        {
          "output_type": "execute_result",
          "data": {
            "text/plain": [
              "array([-1583230123171554083, -3331476452345085769,  3572837399102241351,\n",
              "        8954000560296602273, -1257682914828647777])"
            ]
          },
          "metadata": {
            "tags": []
          },
          "execution_count": 11
        }
      ]
    },
    {
      "cell_type": "code",
      "metadata": {
        "id": "V7ShhuOuscAW",
        "colab": {
          "base_uri": "https://localhost:8080/"
        },
        "outputId": "ddec3cfb-5002-4d47-81d6-ff9c6151401a"
      },
      "source": [
        "# Try shingles method. Expected result for string \"abcdabd\" k = 2 => {ab, bc, cd, da, bd}\n",
        "[hash(shingle) for shingle in generate_shingles(\"abcdabd\", 2)]"
      ],
      "execution_count": 12,
      "outputs": [
        {
          "output_type": "execute_result",
          "data": {
            "text/plain": [
              "[-1583230123171554083,\n",
              " -3331476452345085769,\n",
              " 3572837399102241351,\n",
              " 8954000560296602273,\n",
              " -1257682914828647777]"
            ]
          },
          "metadata": {
            "tags": []
          },
          "execution_count": 12
        }
      ]
    },
    {
      "cell_type": "markdown",
      "metadata": {
        "id": "2rAjjstjCd85"
      },
      "source": [
        "### Compare two sets of shingles using Jaccard similarity"
      ]
    },
    {
      "cell_type": "code",
      "metadata": {
        "id": "9SzZSe1lCjXX"
      },
      "source": [
        "def get_jaccard_similarity_from_shingles(shingles_1, shingles_2):\n",
        "  # Here we can use set because we are not taking into account order for the intersection\n",
        "  intersection_set = np.intersect1d(shingles_1, shingles_2)\n",
        "\n",
        "  intersection = len(intersection_set)\n",
        "  union = len(shingles_1) + len(shingles_2) - intersection\n",
        "  return intersection / union"
      ],
      "execution_count": 13,
      "outputs": []
    },
    {
      "cell_type": "markdown",
      "metadata": {
        "id": "qPWnd_k05e6S"
      },
      "source": [
        "### Random coefficients generator"
      ]
    },
    {
      "cell_type": "markdown",
      "metadata": {
        "id": "LZQWCEIR5UwD"
      },
      "source": [
        "Create lists of random integers of the length of the signature which will be furtherly used to obtain random hashing functions"
      ]
    },
    {
      "cell_type": "code",
      "metadata": {
        "id": "AjI9HcnwgyIO"
      },
      "source": [
        "max_shingle_hash = sys.maxsize # defines the range for random coefficients (could be changed)\n",
        "def random_coefficients(signature_length):\n",
        "  random_list = np.array([], dtype=np.uint8)\n",
        "\n",
        "  for i in range(signature_length):\n",
        "    random_index = random.randint(1, max_shingle_hash)\n",
        "    while random_index in random_list: # Ensure uniqueness\n",
        "        random_index = random.randint(1, max_shingle_hash)\n",
        "    random_list = np.append(random_list, random_index)\n",
        "\n",
        "  return random_list"
      ],
      "execution_count": 14,
      "outputs": []
    },
    {
      "cell_type": "markdown",
      "metadata": {
        "id": "nsVyI8ETivgk"
      },
      "source": [
        "### Generate minhash signature from shingles"
      ]
    },
    {
      "cell_type": "markdown",
      "metadata": {
        "id": "qMQZ8gR-5lpb"
      },
      "source": [
        "For each hash function, all the shingles are hashed and then the min one is selected"
      ]
    },
    {
      "cell_type": "code",
      "metadata": {
        "id": "nSszj8HupdYT"
      },
      "source": [
        "def minhashing(signature_length, shingles, a_hash_coefficients, b_hash_coefficients, max_hash): \n",
        "  signature = np.array([], dtype=np.uint8)\n",
        "\n",
        "  for i in range(0, signature_length):\n",
        "    hashes = ((a_hash_coefficients[i] * shingles) + b_hash_coefficients[i]) % max_hash\n",
        "    signature = np.append(signature, np.amin(hashes))\n",
        "\n",
        "  return signature"
      ],
      "execution_count": 15,
      "outputs": []
    },
    {
      "cell_type": "markdown",
      "metadata": {
        "id": "4tVIhz0q5rEz"
      },
      "source": [
        "### Similarity between minhash signatures"
      ]
    },
    {
      "cell_type": "markdown",
      "metadata": {
        "id": "eo99Xvif5tTj"
      },
      "source": [
        "Calculate proportion of similar elements (minhashes) from two signatures."
      ]
    },
    {
      "cell_type": "code",
      "metadata": {
        "id": "aErIjsuI2-4N"
      },
      "source": [
        "def get_similarity_minhash_signatures(signature_1, signature_2):\n",
        "  count = 0\n",
        "  for i in range(0, len(signature_1)):\n",
        "    if str(signature_1[i]) == str(signature_2[i]):\n",
        "      count += 1\n",
        "\n",
        "  return count / len(signature_1)"
      ],
      "execution_count": 16,
      "outputs": []
    },
    {
      "cell_type": "markdown",
      "metadata": {
        "id": "FLXo_5IPldBQ"
      },
      "source": [
        "### LSH"
      ]
    },
    {
      "cell_type": "markdown",
      "metadata": {
        "id": "UvXSDzsk53fW"
      },
      "source": [
        "Finding best tradeoff between the bands and the rows in order to obtain the similarity closest to the threshold."
      ]
    },
    {
      "cell_type": "code",
      "metadata": {
        "id": "cxaYaZoxzOLW"
      },
      "source": [
        "def calculate_lsh_params(signature_length, threshold):\n",
        "  min = 1\n",
        "  result = (1, 1)\n",
        "\n",
        "  for i in range(1, signature_length + 1):\n",
        "    band_number = i\n",
        "    rows_number = signature_length / i\n",
        "\n",
        "    local_min = abs(threshold - (1 / band_number) ** (1 / rows_number))\n",
        "    if min > local_min:\n",
        "      min = local_min\n",
        "      result = (band_number, rows_number)\n",
        "\n",
        "  return result"
      ],
      "execution_count": 17,
      "outputs": []
    },
    {
      "cell_type": "markdown",
      "metadata": {
        "id": "JCmxC4tI6BGq"
      },
      "source": [
        "Main lsh method"
      ]
    },
    {
      "cell_type": "code",
      "metadata": {
        "id": "4XklnynJmNDy"
      },
      "source": [
        "# Result => Pairs of candidates\n",
        "def lsh(signatures, signature_length, threshold, lsh_buckets):\n",
        "  candidates_pairs = set()\n",
        "  best_params = calculate_lsh_params(signature_length, threshold)\n",
        "\n",
        "  lsh_bands = best_params[0]\n",
        "  rows_number = int(best_params[1])\n",
        "\n",
        "  # Calculate coefficients of hash function\n",
        "  a_hash_coefficients = random_coefficients(lsh_bands)\n",
        "  b_hash_coefficients = random_coefficients(lsh_bands)  \n",
        "\n",
        "  for band_index in range(lsh_bands):\n",
        "    band_row_start = band_index * rows_number\n",
        "    band_signature_hashes = {} # []\n",
        "\n",
        "    # Calculate subsignature reduction or intermediate hash for each subsignature\n",
        "    subsignatures_reductions_raw = [hash(str(s[band_row_start:band_row_start + rows_number])) for s in signatures]\n",
        "    subsignatures_reductions = np.array(subsignatures_reductions_raw)\n",
        "    subsignature_hashes = (a_hash_coefficients[band_index] * subsignatures_reductions + b_hash_coefficients[band_index]) % lsh_buckets\n",
        "\n",
        "    # For each subsignature in the band, calculate its hash\n",
        "    for subsignature_hash_index in range(len(subsignature_hashes)):\n",
        "      subsignature_hash = subsignature_hashes[subsignature_hash_index]\n",
        "      if subsignature_hash not in band_signature_hashes:\n",
        "        band_signature_hashes[subsignature_hash] = np.array([], dtype=np.uint8)\n",
        "      band_signature_hashes[subsignature_hash] = np.append(band_signature_hashes[subsignature_hash], [subsignature_hash_index])\n",
        "\n",
        "    # Calculate signatures index with same hash (instead of saving it in memory) (optimization ignored)\n",
        "    # for i in range(len(band_signature_hashes) - 1):\n",
        "    #   for j in range(i + 1, len(band_signature_hashes)):\n",
        "    #     if band_signature_hashes[i] == band_signature_hashes[j]:\n",
        "    #       candidates_pairs.add((i, j))\n",
        "\n",
        "    for (key, signature_indexes) in band_signature_hashes.items():\n",
        "      if len(signature_indexes) >= 2:\n",
        "        for candidates_pair in list(combinations(signature_indexes, 2)):\n",
        "          candidates_pairs.add(candidates_pair)\n",
        "\n",
        "  return candidates_pairs"
      ],
      "execution_count": 18,
      "outputs": []
    },
    {
      "cell_type": "markdown",
      "metadata": {
        "id": "GknrngfQ9SA_"
      },
      "source": [
        "## Wrapper methods"
      ]
    },
    {
      "cell_type": "markdown",
      "metadata": {
        "id": "LOTpEGjp9UG7"
      },
      "source": [
        "Get compressed shingles from raw document"
      ]
    },
    {
      "cell_type": "code",
      "metadata": {
        "id": "U-RyNG6R9ZFc"
      },
      "source": [
        "def get_shingles_from_document(document_path, shingle_size):\n",
        "  raw_text = extract_text_from_document(document_path)\n",
        "  text = preprocess_text(raw_text)\n",
        "  shingles = generate_shingles(text, shingle_size)\n",
        "  shingles_hashes = compress_shingles(shingles)\n",
        "  return shingles_hashes"
      ],
      "execution_count": 19,
      "outputs": []
    },
    {
      "cell_type": "markdown",
      "metadata": {
        "id": "oZg5g1Lu-VVi"
      },
      "source": [
        "## Experiments"
      ]
    },
    {
      "cell_type": "code",
      "metadata": {
        "id": "DhniTxDv-qzk",
        "colab": {
          "base_uri": "https://localhost:8080/",
          "height": 35
        },
        "outputId": "f835d738-c0d0-4ec3-98ab-a15d58cd047d"
      },
      "source": [
        "corpus_folder = \"./corpus/\"\n",
        "corpus_topic = \"quantum\"\n",
        "corpus_size = 2\n",
        "shingles_size = 10\n",
        "\n",
        "documents_paths = fetch_documents(corpus_size, corpus_topic, corpus_folder)\n",
        "document_path = documents_paths[0]\n",
        "document_path"
      ],
      "execution_count": 20,
      "outputs": [
        {
          "output_type": "execute_result",
          "data": {
            "application/vnd.google.colaboratory.intrinsic+json": {
              "type": "string"
            },
            "text/plain": [
              "'./corpus/0201082v1.Quantum_Computers_and_Quantum_Computer_Languages_Quantum_Assembly_Language_and_Quantum_C_Language.pdf'"
            ]
          },
          "metadata": {
            "tags": []
          },
          "execution_count": 20
        }
      ]
    },
    {
      "cell_type": "code",
      "metadata": {
        "id": "yFP-GKhBocs4",
        "colab": {
          "base_uri": "https://localhost:8080/",
          "height": 35
        },
        "outputId": "e35aca6a-8275-49c4-a8f9-8ef1751278ce"
      },
      "source": [
        "# Get text from document\n",
        "raw_text = extract_text_from_document(document_path)\n",
        "raw_text[:100]"
      ],
      "execution_count": 21,
      "outputs": [
        {
          "output_type": "execute_result",
          "data": {
            "application/vnd.google.colaboratory.intrinsic+json": {
              "type": "string"
            },
            "text/plain": [
              "'QQuuaannttuumm  CCoommppuutteerrss  aanndd  QQuuaannttuumm  CCoommppuutteerr  LLaanngguuaaggeess::\\n\\n'"
            ]
          },
          "metadata": {
            "tags": []
          },
          "execution_count": 21
        }
      ]
    },
    {
      "cell_type": "code",
      "metadata": {
        "id": "1IHfw3SxxaJp",
        "colab": {
          "base_uri": "https://localhost:8080/",
          "height": 35
        },
        "outputId": "f367ba3e-d166-445e-c627-6e49ff838505"
      },
      "source": [
        "# Preprocess text \n",
        "text = preprocess_text(raw_text)\n",
        "text[:100]"
      ],
      "execution_count": 22,
      "outputs": [
        {
          "output_type": "execute_result",
          "data": {
            "application/vnd.google.colaboratory.intrinsic+json": {
              "type": "string"
            },
            "text/plain": [
              "'qquuaannttuumm ccoommppuutteerrss aanndd qquuaannttuumm ccoommppuutteerr llaanngguuaaggeess qquuaann'"
            ]
          },
          "metadata": {
            "tags": []
          },
          "execution_count": 22
        }
      ]
    },
    {
      "cell_type": "code",
      "metadata": {
        "id": "hxq7AO1-xHxR",
        "colab": {
          "base_uri": "https://localhost:8080/"
        },
        "outputId": "15a44c4a-7b7e-4c96-e740-d5e69921be2a"
      },
      "source": [
        "# Get shingles from text\n",
        "shingles = generate_shingles(text, shingles_size)\n",
        "shingles[80:100]"
      ],
      "execution_count": 23,
      "outputs": [
        {
          "output_type": "execute_result",
          "data": {
            "text/plain": [
              "array(['sssseemmbb', 'ssseemmbbl', 'sseemmbbll', 'seemmbblly',\n",
              "       'eemmbbllyy', 'emmbbllyy ', 'mmbbllyy l', 'mbbllyy ll',\n",
              "       'bbllyy lla', 'bllyy llaa', 'llyy llaan', 'lyy llaann',\n",
              "       'yy llaanng', 'y llaanngg', 'guuaaggee ', 'uuaaggee a',\n",
              "       'uaaggee aa', 'aaggee aan', 'aggee aann', 'ggee aannd'],\n",
              "      dtype='<U10')"
            ]
          },
          "metadata": {
            "tags": []
          },
          "execution_count": 23
        }
      ]
    },
    {
      "cell_type": "code",
      "metadata": {
        "id": "c0Fv2Ixd6MVD",
        "colab": {
          "base_uri": "https://localhost:8080/"
        },
        "outputId": "91eb8d4e-e32e-4916-d494-7b54ee0e7808"
      },
      "source": [
        "# Get compressed shingles\n",
        "shingles_hashes = compress_shingles(shingles)\n",
        "shingles_hashes[80:100]"
      ],
      "execution_count": 24,
      "outputs": [
        {
          "output_type": "execute_result",
          "data": {
            "text/plain": [
              "array([ 6826790457743011032, -2981279910775453740, -7457232420149427715,\n",
              "         784872998395550615, -5171530530838379130,  8388583554838212350,\n",
              "        5457718796081926824,  7428560074082474786, -4941900259768505278,\n",
              "        1489192709548571884, -2268647060724996796,  4626870868283178449,\n",
              "        7126011376062341505,  6755775087789693078,   919741840833001063,\n",
              "       -8413034045029173490,  -615193119471560707,  -899363863111132833,\n",
              "        7300330558747071105,    92843432654188988])"
            ]
          },
          "metadata": {
            "tags": []
          },
          "execution_count": 24
        }
      ]
    },
    {
      "cell_type": "markdown",
      "metadata": {
        "id": "6JMKvCiRpVlg"
      },
      "source": [
        "## Main method"
      ]
    },
    {
      "cell_type": "markdown",
      "metadata": {
        "id": "47qOgvpk-1mH"
      },
      "source": [
        "Configuration"
      ]
    },
    {
      "cell_type": "code",
      "metadata": {
        "id": "52Ldz2AsrpEe"
      },
      "source": [
        "corpus_folder = \"./corpus/\"\n",
        "corpus_topic = \"quantum\"\n",
        "corpus_size = 20\n",
        "shingle_size = 10\n",
        "\n",
        "# Minhash\n",
        "max_hash_minhash = 4294967311 # big prime number that can be used for hashing\n",
        "signature_length = 1000\n",
        "\n",
        "# LSH Config\n",
        "lsh_custom_threshold = 0.3 # It should be multiple of signature length\n",
        "lsh_buckets = max_hash_minhash"
      ],
      "execution_count": 25,
      "outputs": []
    },
    {
      "cell_type": "code",
      "metadata": {
        "id": "7bs4UPPa6EXw",
        "colab": {
          "base_uri": "https://localhost:8080/"
        },
        "outputId": "da50032c-8a0c-409a-81fd-b925c29f3252"
      },
      "source": [
        "# Print params => (band, rows_number)\n",
        "calculate_lsh_params(signature_length, lsh_custom_threshold)"
      ],
      "execution_count": 26,
      "outputs": [
        {
          "output_type": "execute_result",
          "data": {
            "text/plain": [
              "(223, 4.484304932735426)"
            ]
          },
          "metadata": {
            "tags": []
          },
          "execution_count": 26
        }
      ]
    },
    {
      "cell_type": "code",
      "metadata": {
        "id": "Qbd9SlmhroaG",
        "colab": {
          "base_uri": "https://localhost:8080/"
        },
        "outputId": "b29d0fd6-effc-49dd-c8e6-cb8d2cc71a63"
      },
      "source": [
        "# Get <corpus_size> documents and save them to ./corupus folder\n",
        "documents_paths = fetch_documents(corpus_size, corpus_topic, corpus_folder)\n",
        "documents_paths"
      ],
      "execution_count": 27,
      "outputs": [
        {
          "output_type": "execute_result",
          "data": {
            "text/plain": [
              "['./corpus/0201082v1.Quantum_Computers_and_Quantum_Computer_Languages_Quantum_Assembly_Language_and_Quantum_C_Language.pdf',\n",
              " './corpus/0407102v1.Quantum_Networks_for_Generating_Arbitrary_Quantum_States.pdf',\n",
              " './corpus/0804.3401v1.Quantum_Computational_Complexity.pdf',\n",
              " './corpus/1311.4939v1.Geometrical_perspective_on_quantum_states_and_quantum_computation.pdf',\n",
              " './corpus/1611.03472v1.Universal_Quantum_Algorithm.pdf',\n",
              " './corpus/9610034v1.Quantum_Grothendieck_polynomials.pdf',\n",
              " './corpus/0302169v1.Nonlinear_Dynamics_In_Quantum_Physics_Quantum_Chaos_and_Quantum_Instantons.pdf',\n",
              " './corpus/0309066v1.Probabilistic_foundations_of_quantum_mechanics_and_quantum_information.pdf',\n",
              " './corpus/0504224v1.From_quantum_graphs_to_quantum_random_walks.pdf',\n",
              " './corpus/2006.03757v1.Quantum_Metamaterials_Applications_in_quantum_information_science.pdf',\n",
              " './corpus/1610.02500v1.Probabilistic_Process_Algebra_to_Unifying_Quantum_and_Classical_Computing_in_Closed_Systems.pdf',\n",
              " './corpus/1402.1141v1.Quantum_Cybernetics_and_Complex_Quantum_Systems_Science_A_Quantum_Connectionist_Exploration.pdf',\n",
              " './corpus/1210.0736v1.Quantum_Computation_and_Quantum_Information.pdf',\n",
              " './corpus/9509015v1.Quantum_Homogeneous_Spaces_as_Quantum_Quotient_Spaces.pdf',\n",
              " './corpus/0907.3802v1.Progress_on_Problem_about_Quantum_Hamming_Bound_for_Impure_Quantum_Codes.pdf',\n",
              " './corpus/1509.06741v2.Quantum_variance_a_measure_of_quantum_coherence_and_quantum_correlations_for_many_body_systems.pdf',\n",
              " './corpus/0804.0180v2.Transforming_quantum_operations_quantum_supermaps.pdf',\n",
              " './corpus/1601.02313v1.A_note_on_one_way_quantum_deficit_and_quantum_discord.pdf',\n",
              " './corpus/1611.07851v2.Approximate_Quantum_Adders_with_Genetic_Algorithms_An_IBM_Quantum_Experience.pdf',\n",
              " './corpus/9902029v1.Quantum_automorphism_groups_of_finite_graphs.pdf']"
            ]
          },
          "metadata": {
            "tags": []
          },
          "execution_count": 27
        }
      ]
    },
    {
      "cell_type": "markdown",
      "metadata": {
        "id": "erkKWEe8HjqR"
      },
      "source": [
        "### Calculating similarity between two documents"
      ]
    },
    {
      "cell_type": "code",
      "metadata": {
        "id": "nDCtNWXyBvWy",
        "colab": {
          "base_uri": "https://localhost:8080/"
        },
        "outputId": "500ff99d-1725-4d0e-981b-df207f23ddf1"
      },
      "source": [
        "# Choose documents to run similarity\n",
        "document_path_1 = documents_paths[3]\n",
        "document_path_2 = documents_paths[4]\n",
        "print(document_path_1)\n",
        "print(document_path_2)"
      ],
      "execution_count": 28,
      "outputs": [
        {
          "output_type": "stream",
          "text": [
            "./corpus/1311.4939v1.Geometrical_perspective_on_quantum_states_and_quantum_computation.pdf\n",
            "./corpus/1611.03472v1.Universal_Quantum_Algorithm.pdf\n"
          ],
          "name": "stdout"
        }
      ]
    },
    {
      "cell_type": "code",
      "metadata": {
        "id": "YOTPEPfLA8va",
        "colab": {
          "base_uri": "https://localhost:8080/"
        },
        "outputId": "72f05e59-43cc-4c98-83ba-d380c6cf3131"
      },
      "source": [
        "# Get set of hashed shingles of first two documents\n",
        "shingles_1 = get_shingles_from_document(document_path_1, shingle_size)\n",
        "shingles_2 = get_shingles_from_document(document_path_2, shingle_size)\n",
        "print(shingles_1[:100])\n",
        "print(shingles_2[:100])"
      ],
      "execution_count": 29,
      "outputs": [
        {
          "output_type": "stream",
          "text": [
            "[-4878247784018520252  6979104729595748972  8596380596457510034\n",
            "  4743876708560457059  7803064971898023827 -7461869544768665117\n",
            " -5953950010689897734   458034627060557673  8973741114008401069\n",
            "  6420084574154802230 -1540180902921627005  3883979735442944472\n",
            " -6403872996980931840 -7747004395348051766 -1833684814269139758\n",
            " -2693785178226882827 -5860971311104872506  6886666010101769611\n",
            "  7670045090892855041  5170133178740610422 -6720917274267561127\n",
            " -1907867832306311621  2289618202077666317  8126507106362543347\n",
            " -5061219317607589564  5946374217117094395  2702652095180749099\n",
            " -1547039076773101576  5535789323999678000 -2038886991908967324\n",
            " -8370221625605229690  5325940770629868029  6074590038053326623\n",
            " -7366934327414400348  4893758671935900693  3873604022619044195\n",
            "  1115725543352504636  7883359286879850303  6561944636168891177\n",
            "  -809906874317581945 -3878967849330111135 -1018608119484310376\n",
            " -3842627522389050076   658819876814758027  1548556883360355929\n",
            " -8474247657565355964  3651921029186110296 -6978438174094817506\n",
            "  1659630213617934444  -274285605376929793 -1438229823459858233\n",
            "  -739594537642223150 -2722602114680199309 -8986056321296470631\n",
            " -6561566187381925610 -3017168703063187547 -4151420262345437174\n",
            "  2911307910847098450 -2014210826703074925  1320639127912312619\n",
            " -8392468353160501474  4676063037009627968  8822336454436586879\n",
            "  9197598169079817079  7356032605061094374  2806568462761249373\n",
            " -8645148619697183316 -8366561731265000734  7770616691580037748\n",
            "  1824450638520916379 -8338871782217108807  -528850921619593093\n",
            " -1010696938947879722 -3304144222413416139 -8025876209740472017\n",
            " -6128034628650225927 -7722490325034945152  1080837270587033081\n",
            " -3818944582844930796  7961438947579595367 -1872411553012006053\n",
            " -5635327903194957724  4331005745735181840  3063187390068763691\n",
            "  1272474378234772720 -4875294777190506969 -6288580000169222413\n",
            "  8117310110202762869  3641185592057766985  3432284064217085433\n",
            " -7841600020794752394  7910144101359854925  1044463741570433491\n",
            " -4929708194121397878 -2577217538548340916   869818497167352495\n",
            " -7533177376033218126 -5110599036732179538 -1603153899457483922\n",
            " -3660646440761762412]\n",
            "[-5839068058651904818 -7570105070011520084 -4769523039924420886\n",
            "  8164632967494346753  3729872990408799205  4329965020150151933\n",
            " -1351660111031336913  -998475280632927229 -5822945103977178856\n",
            " -7374082059154544404 -3834347726266809708 -2429478689098269167\n",
            " -7964751627736423672 -6740238925668593929 -3348684050827163027\n",
            " -2824057856261816136 -5262622640555098287  1800715545886062795\n",
            "  8058223452046170761 -2246389885113174398 -5057191393382565542\n",
            "  1554158739388882460 -3826239696590955597  8679371074106473848\n",
            "  1441895402874359676  -833210196089715270 -5634287367847087972\n",
            " -6234135379508232729  5601591590658742580  -539720174318178641\n",
            "   945357101700930011  5986810888536476046  2192817088889742602\n",
            "  5063002788505076817  5826450555260301676 -7963200916952831776\n",
            "  1029609944772050696 -6178001175422050320  2732821443703746068\n",
            " -2356968349544929221 -5597446705121209309 -1426073006519094752\n",
            "   -61928962763796824 -9022356714218421910 -2209510573121142876\n",
            "  7607313683533641592 -3671072815582743942 -1362419040787357567\n",
            " -6906437108908389285  4114012199521570055 -2866670199608158907\n",
            " -1009693976309640516 -1394846709697719763 -8754484423083354037\n",
            "  3674843438958518898  4758211289578434587 -3702752287723036342\n",
            "  -252358187954564854  -740627134605157848  4743859086863143385\n",
            "  3295471023687805992  7151191074595512073 -1303279738888111747\n",
            "  4314811860675477357  8393134933762692710  7069285907527111007\n",
            " -8954440273836311665  -737112651234397499   868200882027370699\n",
            " -5784795850924125501  -339450629793923730 -9148685474756774399\n",
            "  4421147153616688135  2346922799462191562 -3920479990092065361\n",
            "  8203087479713666017  7811607110106668315  5581956972191095553\n",
            "  8506439715926398774  9059766811322536258 -1327845170808299349\n",
            "  8126810606081395944 -1052136673202748387 -9123675262469654473\n",
            "  6875037579316436672 -6233210638811673235  1953640779577895833\n",
            " -7515212303842397985 -3055787426664981624  -142216081447613949\n",
            "   345273992208765917 -5678371786257282172   353869194921409783\n",
            "  1456681759771839097 -6849787680498366541 -2412475908251419012\n",
            "  9154796646334573549 -5046292378496641735  -338734014079275790\n",
            " -4079846865866260436]\n"
          ],
          "name": "stdout"
        }
      ]
    },
    {
      "cell_type": "code",
      "metadata": {
        "id": "5fZ9-oTaHCV2",
        "colab": {
          "base_uri": "https://localhost:8080/"
        },
        "outputId": "ab6fdb66-73bd-424f-c4df-e92769fe3c9e"
      },
      "source": [
        "# Get jaccard similarity from hashed shingles\n",
        "get_jaccard_similarity_from_shingles(shingles_1, shingles_2)"
      ],
      "execution_count": 30,
      "outputs": [
        {
          "output_type": "execute_result",
          "data": {
            "text/plain": [
              "0.02079693400214169"
            ]
          },
          "metadata": {
            "tags": []
          },
          "execution_count": 30
        }
      ]
    },
    {
      "cell_type": "code",
      "metadata": {
        "id": "FPPhkUgFlizg"
      },
      "source": [
        "# For every document to have same hash functions\n",
        "a_minhash_coefficients = random_coefficients(signature_length) # lists of randomly generated coefficients that will be used for minhashing\n",
        "b_minhash_coefficients = random_coefficients(signature_length)"
      ],
      "execution_count": 31,
      "outputs": []
    },
    {
      "cell_type": "code",
      "metadata": {
        "id": "LbAjTGs0r5ZC",
        "colab": {
          "base_uri": "https://localhost:8080/"
        },
        "outputId": "835b3fe6-4d21-4674-9622-930fe2c01f82"
      },
      "source": [
        "# Get minhashe signatures of hashed shingles\n",
        "signature_1 = minhashing(signature_length, shingles_1, a_minhash_coefficients, b_minhash_coefficients, max_hash_minhash)\n",
        "signature_2 = minhashing(signature_length, shingles_2, b_minhash_coefficients, b_minhash_coefficients, max_hash_minhash)\n",
        "print(signature_2[:20])"
      ],
      "execution_count": 32,
      "outputs": [
        {
          "output_type": "stream",
          "text": [
            "[ 516014  275677  182616 1255481  153400  233519  895793  676951 1266181\n",
            "  896179  117575  725239  869575  849330  145416  703946  392495  128961\n",
            "  131766   25229]\n"
          ],
          "name": "stdout"
        }
      ]
    },
    {
      "cell_type": "code",
      "metadata": {
        "id": "oYu3RXivtCw-",
        "colab": {
          "base_uri": "https://localhost:8080/"
        },
        "outputId": "702a32b5-8063-43dc-8899-31f73e44d4cd"
      },
      "source": [
        "# Get similarity of signatures\n",
        "get_similarity_minhash_signatures(signature_1, signature_2)"
      ],
      "execution_count": 33,
      "outputs": [
        {
          "output_type": "execute_result",
          "data": {
            "text/plain": [
              "0.0"
            ]
          },
          "metadata": {
            "tags": []
          },
          "execution_count": 33
        }
      ]
    },
    {
      "cell_type": "code",
      "metadata": {
        "id": "ZByccFf6twJA",
        "colab": {
          "base_uri": "https://localhost:8080/"
        },
        "outputId": "74c10202-5366-4690-b339-97bc6482b454"
      },
      "source": [
        "# LSH\n",
        "lsh([signature_1, signature_2], signature_length, 0.03, lsh_buckets)"
      ],
      "execution_count": 34,
      "outputs": [
        {
          "output_type": "execute_result",
          "data": {
            "text/plain": [
              "set()"
            ]
          },
          "metadata": {
            "tags": []
          },
          "execution_count": 34
        }
      ]
    },
    {
      "cell_type": "code",
      "metadata": {
        "id": "zssWvs9avVyQ",
        "colab": {
          "base_uri": "https://localhost:8080/"
        },
        "outputId": "9b662004-42a0-4d7e-8f8f-4753a3e6d923"
      },
      "source": [
        "# LSH\n",
        "lsh([signature_1, signature_2], signature_length, 0.05, lsh_buckets)"
      ],
      "execution_count": 35,
      "outputs": [
        {
          "output_type": "execute_result",
          "data": {
            "text/plain": [
              "set()"
            ]
          },
          "metadata": {
            "tags": []
          },
          "execution_count": 35
        }
      ]
    },
    {
      "cell_type": "markdown",
      "metadata": {
        "id": "XUXpHmjRy6GL"
      },
      "source": [
        "### Calculate similarity whole corpus"
      ]
    },
    {
      "cell_type": "code",
      "metadata": {
        "id": "-cLsi0Ciy9l7"
      },
      "source": [
        "corpus_shingles = []\n",
        "start = time.time()\n",
        "for document_path_index in range(len(documents_paths)): \n",
        "  document_path = documents_paths[document_path_index]\n",
        "  shingles = get_shingles_from_document(document_path, shingle_size)\n",
        "\n",
        "  # Important: Increment similarity between signatures by adding the previous shingles\n",
        "  # Just for forcing to be similar (it can be commented for real similarity, but in real papers it would probably not output anything)\n",
        "  if document_path_index != 0:\n",
        "    shingles = np.append(shingles, corpus_shingles[document_path_index - 1])\n",
        "    \n",
        "  corpus_shingles.append(shingles)\n",
        "end = time.time()"
      ],
      "execution_count": 56,
      "outputs": []
    },
    {
      "cell_type": "code",
      "metadata": {
        "id": "dU3__XX7B2IH",
        "colab": {
          "base_uri": "https://localhost:8080/"
        },
        "outputId": "99b1e315-2bc2-4f15-9ae4-46ddeaf0e3ae"
      },
      "source": [
        "print(f\"Runtime of the generating shingles was {end - start}\")\n",
        "print(f\"Average per document: {(end - start) / len(documents_paths)}\")"
      ],
      "execution_count": 57,
      "outputs": [
        {
          "output_type": "stream",
          "text": [
            "Runtime of the generating shingles was 67.28062891960144\n",
            "Average per document: 3.364031445980072\n"
          ],
          "name": "stdout"
        }
      ]
    },
    {
      "cell_type": "code",
      "metadata": {
        "id": "evmIXTtp9u3E"
      },
      "source": [
        "## Filter shingles with less than million rows\n",
        "corpus_shingles = list(filter(lambda corpus_shingle: len(corpus_shingle) > 100000, corpus_shingles))\n",
        "\n",
        "## Trim shingles to max 200000, so they are between 100k and 200k\n",
        "corpus_shingles = [corpus_shingle[:150000] for corpus_shingle in corpus_shingles]"
      ],
      "execution_count": 58,
      "outputs": []
    },
    {
      "cell_type": "code",
      "metadata": {
        "id": "Samatrj1ljuT"
      },
      "source": [
        "# For every document to have same hash functions\n",
        "a_minhash_coefficients = random_coefficients(signature_length) # lists of randomly generated coefficients that will be used for minhashing\n",
        "b_minhash_coefficients = random_coefficients(signature_length)"
      ],
      "execution_count": 59,
      "outputs": []
    },
    {
      "cell_type": "code",
      "metadata": {
        "id": "IdwgNA4nBFdP",
        "colab": {
          "base_uri": "https://localhost:8080/"
        },
        "outputId": "390e82de-2e75-44ab-fd9d-f935fbaabace"
      },
      "source": [
        "corpus_signatures = []\n",
        "start = time.time()\n",
        "\n",
        "for shingle in corpus_shingles:\n",
        "  signature = minhashing(signature_length, shingle, a_minhash_coefficients, b_minhash_coefficients, max_hash_minhash)\n",
        "  corpus_signatures.append(signature)\n",
        "\n",
        "end = time.time()\n",
        "\n",
        "print(f\"Runtime of the generating signatures was {end - start}\")\n",
        "print(f\"Average per document: {(end - start) / len(documents_paths)}\")"
      ],
      "execution_count": 60,
      "outputs": [
        {
          "output_type": "stream",
          "text": [
            "Runtime of the generating signatures was 68.9510555267334\n",
            "Average per document: 3.44755277633667\n"
          ],
          "name": "stdout"
        }
      ]
    },
    {
      "cell_type": "code",
      "metadata": {
        "id": "_Mgcji-mzsSt",
        "colab": {
          "base_uri": "https://localhost:8080/"
        },
        "outputId": "329b7889-6db3-4767-e297-38840822e471"
      },
      "source": [
        "# LSH\n",
        "start = time.time()\n",
        "candidate_pairs = lsh(corpus_signatures, signature_length, 0.9, max_hash_minhash)\n",
        "end = time.time()\n",
        "\n",
        "print(f\"Runtime of LSH was {end - start}\")\n",
        "print(f\"Average per document: {(end - start) / len(documents_paths)}\")\n",
        "candidate_pairs"
      ],
      "execution_count": 61,
      "outputs": [
        {
          "output_type": "stream",
          "text": [
            "Runtime of LSH was 0.05895352363586426\n",
            "Average per document: 0.002947676181793213\n"
          ],
          "name": "stdout"
        },
        {
          "output_type": "execute_result",
          "data": {
            "text/plain": [
              "{(0, 1), (0, 2), (1, 2), (1, 3), (2, 3), (11, 12), (14, 15), (16, 17)}"
            ]
          },
          "metadata": {
            "tags": []
          },
          "execution_count": 61
        }
      ]
    },
    {
      "cell_type": "code",
      "metadata": {
        "id": "RM9oVuWH8jzF",
        "colab": {
          "base_uri": "https://localhost:8080/"
        },
        "outputId": "e1cdea66-2027-4bf0-b7b4-ead042a401c7"
      },
      "source": [
        "for candidate_pair in candidate_pairs:\n",
        "  i = candidate_pair[0]\n",
        "  j = candidate_pair[1]\n",
        "\n",
        "  print(\"\\t Candidate pair: \" + str(candidate_pair))\n",
        "  \n",
        "  # Same method than on calculating signature\n",
        "  jaccard_similarity = get_jaccard_similarity_from_shingles(corpus_shingles[i], corpus_shingles[j])\n",
        "\n",
        "  print(\"\\t Jaccard Similarity: \" + str(jaccard_similarity))\n",
        "  minhash_similarity = get_similarity_minhash_signatures(corpus_signatures[i], corpus_signatures[j])\n",
        "\n",
        "  print(\"\\t Minhash Signature Similarity: \" + str(minhash_similarity))\n",
        "  print(\"\\n\")"
      ],
      "execution_count": 62,
      "outputs": [
        {
          "output_type": "stream",
          "text": [
            "\t Candidate pair: (1, 2)\n",
            "\t Jaccard Similarity: 0.8237303695454238\n",
            "\t Minhash Signature Similarity: 0.947\n",
            "\n",
            "\n",
            "\t Candidate pair: (16, 17)\n",
            "\t Jaccard Similarity: 0.7132381915057651\n",
            "\t Minhash Signature Similarity: 0.851\n",
            "\n",
            "\n",
            "\t Candidate pair: (0, 1)\n",
            "\t Jaccard Similarity: 0.8358193070928024\n",
            "\t Minhash Signature Similarity: 0.947\n",
            "\n",
            "\n",
            "\t Candidate pair: (1, 3)\n",
            "\t Jaccard Similarity: 0.750593107609605\n",
            "\t Minhash Signature Similarity: 0.863\n",
            "\n",
            "\n",
            "\t Candidate pair: (2, 3)\n",
            "\t Jaccard Similarity: 0.7935244377485511\n",
            "\t Minhash Signature Similarity: 0.914\n",
            "\n",
            "\n",
            "\t Candidate pair: (14, 15)\n",
            "\t Jaccard Similarity: 0.7309323378549133\n",
            "\t Minhash Signature Similarity: 0.855\n",
            "\n",
            "\n",
            "\t Candidate pair: (11, 12)\n",
            "\t Jaccard Similarity: 0.8013582241009721\n",
            "\t Minhash Signature Similarity: 0.913\n",
            "\n",
            "\n",
            "\t Candidate pair: (0, 2)\n",
            "\t Jaccard Similarity: 0.7786234509056245\n",
            "\t Minhash Signature Similarity: 0.894\n",
            "\n",
            "\n"
          ],
          "name": "stdout"
        }
      ]
    }
  ]
}